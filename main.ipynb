{
 "cells": [
  {
   "cell_type": "code",
   "execution_count": 19,
   "metadata": {},
   "outputs": [],
   "source": [
    "from superttt_python import Game, play_game, play_game_multiple_threads, play_multiple_games, State\n",
    "import numpy\n",
    "import random"
   ]
  },
  {
   "cell_type": "code",
   "execution_count": 20,
   "metadata": {},
   "outputs": [],
   "source": [
    "from superttt_python import Player"
   ]
  },
  {
   "cell_type": "code",
   "execution_count": 21,
   "metadata": {},
   "outputs": [
    {
     "data": {
      "text/plain": [
       "2"
      ]
     },
     "execution_count": 21,
     "metadata": {},
     "output_type": "execute_result"
    }
   ],
   "source": [
    "game = Game(0)\n",
    "play_game(Player(1), Player(2),game)\n",
    "game.get_winner()"
   ]
  },
  {
   "cell_type": "code",
   "execution_count": 22,
   "metadata": {},
   "outputs": [
    {
     "data": {
      "text/plain": [
       "[56]"
      ]
     },
     "execution_count": 22,
     "metadata": {},
     "output_type": "execute_result"
    }
   ],
   "source": [
    "game = Game(0)\n",
    "\n",
    "random.sample(game.get_available_moves(), 1)"
   ]
  },
  {
   "cell_type": "code",
   "execution_count": 23,
   "metadata": {},
   "outputs": [
    {
     "name": "stdout",
     "output_type": "stream",
     "text": [
      "   │   │   ┃   │   │   ┃   │   │   \n",
      "───┼───┼───┃───┼───┼───┃───┼───┼───\n",
      "   │   │   ┃   │   │   ┃   │   │   \n",
      "───┼───┼───┃───┼───┼───┃───┼───┼───\n",
      "   │   │   ┃   │   │   ┃   │   │   \n",
      "━━━━━━━━━━━╋━━━━━━━━━━━╋━━━━━━━━━━━━\n",
      "   │   │   ┃   │   │   ┃   │   │   \n",
      "───┼───┼───┃───┼───┼───┃───┼───┼───\n",
      "   │   │   ┃   │   │   ┃   │   │   \n",
      "───┼───┼───┃───┼───┼───┃───┼───┼───\n",
      "   │   │   ┃   │   │   ┃   │   │   \n",
      "━━━━━━━━━━━╋━━━━━━━━━━━╋━━━━━━━━━━━━\n",
      "   │   │   ┃   │   │   ┃   │   │   \n",
      "───┼───┼───┃───┼───┼───┃───┼───┼───\n",
      "   │   │   ┃   │   │   ┃   │   │   \n",
      "───┼───┼───┃───┼───┼───┃───┼───┼───\n",
      "   │   │   ┃   │   │   ┃   │   │   \n"
     ]
    }
   ],
   "source": [
    "print(game)"
   ]
  },
  {
   "cell_type": "code",
   "execution_count": 24,
   "metadata": {},
   "outputs": [
    {
     "data": {
      "text/plain": [
       "<State at 0x11daa6850>"
      ]
     },
     "execution_count": 24,
     "metadata": {},
     "output_type": "execute_result"
    }
   ],
   "source": [
    "state = game.make_state()\n",
    "state"
   ]
  },
  {
   "cell_type": "code",
   "execution_count": 25,
   "metadata": {},
   "outputs": [
    {
     "name": "stdout",
     "output_type": "stream",
     "text": [
      "Board:\n",
      " 0 │ 0 │ 0 ┃ 0 │ 0 │ 0 ┃ 0 │ 0 │ 0 \n",
      "───┼───┼───┃───┼───┼───┃───┼───┼──\n",
      " 0 │ 0 │ 0 ┃ 0 │ 0 │ 0 ┃ 0 │ 0 │ 0 \n",
      "───┼───┼───┃───┼───┼───┃───┼───┼──\n",
      " 0 │ 0 │ 0 ┃ 0 │ 0 │ 0 ┃ 0 │ 0 │ 0 \n",
      "━━━━━━━━━━━╋━━━━━━━━━━━╋━━━━━━━━━━━\n",
      " 0 │ 0 │ 0 ┃ 0 │ 0 │ 0 ┃ 0 │ 0 │ 0 \n",
      "───┼───┼───┃───┼───┼───┃───┼───┼──\n",
      " 0 │ 0 │ 0 ┃ 0 │ 0 │ 0 ┃ 0 │ 0 │ 0 \n",
      "───┼───┼───┃───┼───┼───┃───┼───┼──\n",
      " 0 │ 0 │ 0 ┃ 0 │ 0 │ 0 ┃ 0 │ 0 │ 0 \n",
      "━━━━━━━━━━━╋━━━━━━━━━━━╋━━━━━━━━━━━\n",
      " 0 │ 0 │ 0 ┃ 0 │ 0 │ 0 ┃ 0 │ 0 │ 0 \n",
      "───┼───┼───┃───┼───┼───┃───┼───┼──\n",
      " 0 │ 0 │ 0 ┃ 0 │ 0 │ 0 ┃ 0 │ 0 │ 0 \n",
      "───┼───┼───┃───┼───┼───┃───┼───┼──\n",
      " 0 │ 0 │ 0 ┃ 0 │ 0 │ 0 ┃ 0 │ 0 │ 0 \n",
      "\n",
      "Next Player: 1\n",
      "\n",
      "Possible Moves: [35 77 69 26 80 36 54 59 53 40 20 42 65 73 16  4 27 31 48 79 72 32 14 15\n",
      " 64 33  8 18 62 34 58 76 74  0 17 38 41  1 78  7  3  6 22 29 37  5 39 21\n",
      " 57 47 71 12 44 67 23 25 28 43 30 46 56 45 13 60 24 50 51 55  9 49 11 68\n",
      " 66 75 10  2 52 63 19 70 61]\n",
      "\n"
     ]
    }
   ],
   "source": [
    "print(state)"
   ]
  },
  {
   "cell_type": "code",
   "execution_count": 26,
   "metadata": {},
   "outputs": [
    {
     "name": "stdout",
     "output_type": "stream",
     "text": [
      "\n",
      "* 10 cores detected. Using all cores to simulate.*\n"
     ]
    }
   ],
   "source": [
    "player1 = Player(1)\n",
    "player2 = Player(2)\n",
    "play_game_multiple_threads(player1, player2, 10000, 0)"
   ]
  },
  {
   "cell_type": "code",
   "execution_count": 27,
   "metadata": {},
   "outputs": [
    {
     "data": {
      "text/plain": [
       "3669"
      ]
     },
     "execution_count": 27,
     "metadata": {},
     "output_type": "execute_result"
    }
   ],
   "source": [
    "player2.get_wins()"
   ]
  },
  {
   "cell_type": "code",
   "execution_count": 28,
   "metadata": {},
   "outputs": [
    {
     "data": {
      "text/plain": [
       "4159"
      ]
     },
     "execution_count": 28,
     "metadata": {},
     "output_type": "execute_result"
    }
   ],
   "source": [
    "player1.get_wins()"
   ]
  },
  {
   "cell_type": "code",
   "execution_count": 29,
   "metadata": {},
   "outputs": [],
   "source": [
    "class CustomPlayer(Player):\n",
    "    id\n",
    "\n",
    "    def __init__(self,id):\n",
    "        self.id = id\n",
    "    def make_move(self, game: Game):\n",
    "        print(\"mjoef\")\n",
    "        game.make_move(random.sample(game.get_available_moves(), 1)[0], self.id)\n",
    "    def meow(self):\n",
    "        print(\"ROARRR I AM A BIG CAT!!!\")"
   ]
  },
  {
   "cell_type": "code",
   "execution_count": 30,
   "metadata": {},
   "outputs": [],
   "source": [
    "# player1 = CustomPlayer(1)\n",
    "# player2 = Player(2)\n",
    "# for i in range(10000):\n",
    "#     game = Game(0)\n",
    "#     play_game(player1,player2,game)\n",
    "# (player1.get_wins(), player2.get_wins())"
   ]
  },
  {
   "cell_type": "code",
   "execution_count": 31,
   "metadata": {},
   "outputs": [],
   "source": [
    "player1 = CustomPlayer(1)\n",
    "# player2 = Player(2)\n",
    "# play_multiple_games(player1,player2,10000)\n",
    "# (player1.get_wins(), player2.get_wins())"
   ]
  },
  {
   "cell_type": "code",
   "execution_count": 32,
   "metadata": {},
   "outputs": [
    {
     "name": "stdout",
     "output_type": "stream",
     "text": [
      "mjoef\n"
     ]
    }
   ],
   "source": [
    "game = Game(0)\n",
    "player1.make_move(game)"
   ]
  },
  {
   "cell_type": "code",
   "execution_count": 33,
   "metadata": {},
   "outputs": [
    {
     "data": {
      "text/plain": [
       "'Built-in mutable sequence.\\n\\nIf no argument is given, the constructor creates a new empty list.\\nThe argument must be an iterable if specified.'"
      ]
     },
     "execution_count": 33,
     "metadata": {},
     "output_type": "execute_result"
    }
   ],
   "source": [
    "game.get_available_moves().__doc__"
   ]
  },
  {
   "cell_type": "code",
   "execution_count": 34,
   "metadata": {},
   "outputs": [],
   "source": [
    "state = game.make_state()"
   ]
  },
  {
   "cell_type": "code",
   "execution_count": 35,
   "metadata": {},
   "outputs": [
    {
     "name": "stdout",
     "output_type": "stream",
     "text": [
      "Board:\n",
      " 0 │ 0 │ 0 ┃ 0 │ 0 │ 0 ┃ 0 │ 0 │ 0 \n",
      "───┼───┼───┃───┼───┼───┃───┼───┼──\n",
      " 0 │ 0 │ 0 ┃ 0 │ 0 │ 0 ┃ 0 │ 0 │ 0 \n",
      "───┼───┼───┃───┼───┼───┃───┼───┼──\n",
      " 0 │ 0 │ 0 ┃ 0 │ 0 │ 0 ┃ 0 │ 0 │ 0 \n",
      "━━━━━━━━━━━╋━━━━━━━━━━━╋━━━━━━━━━━━\n",
      " 0 │ 0 │ 0 ┃ 0 │ 0 │ 0 ┃ 0 │ 0 │ 0 \n",
      "───┼───┼───┃───┼───┼───┃───┼───┼──\n",
      " 0 │ 0 │ 0 ┃ 0 │ 0 │ 0 ┃ 0 │ 0 │ 0 \n",
      "───┼───┼───┃───┼───┼───┃───┼───┼──\n",
      " 0 │ 0 │ 0 ┃ 0 │ 0 │ 0 ┃ 0 │ 0 │ 0 \n",
      "━━━━━━━━━━━╋━━━━━━━━━━━╋━━━━━━━━━━━\n",
      " 0 │ 0 │ 0 ┃ 0 │ 0 │ 0 ┃ 0 │ 0 │ 0 \n",
      "───┼───┼───┃───┼───┼───┃───┼───┼──\n",
      " 0 │ 0 │ 0 ┃ 0 │ 0 │ 0 ┃ 0 │ 1 │ 0 \n",
      "───┼───┼───┃───┼───┼───┃───┼───┼──\n",
      " 0 │ 0 │ 0 ┃ 0 │ 0 │ 0 ┃ 0 │ 0 │ 0 \n",
      "\n",
      "Next Player: 2\n",
      "\n",
      "Possible Moves: [36 37 38 39 40 41 42 43 44]\n",
      "\n"
     ]
    }
   ],
   "source": [
    "print(state)"
   ]
  }
 ],
 "metadata": {
  "kernelspec": {
   "display_name": ".env",
   "language": "python",
   "name": "python3"
  },
  "language_info": {
   "codemirror_mode": {
    "name": "ipython",
    "version": 3
   },
   "file_extension": ".py",
   "mimetype": "text/x-python",
   "name": "python",
   "nbconvert_exporter": "python",
   "pygments_lexer": "ipython3",
   "version": "3.10.11"
  }
 },
 "nbformat": 4,
 "nbformat_minor": 2
}
