{
 "cells": [
  {
   "cell_type": "code",
   "execution_count": 3,
   "metadata": {},
   "outputs": [],
   "source": [
    "from superttt import Game, play_game, play_game_multiple_threads, play_multiple_games, State\n",
    "import numpy\n",
    "import random"
   ]
  },
  {
   "cell_type": "code",
   "execution_count": 4,
   "metadata": {},
   "outputs": [],
   "source": [
    "from superttt import Player"
   ]
  },
  {
   "cell_type": "code",
   "execution_count": 5,
   "metadata": {},
   "outputs": [
    {
     "data": {
      "text/plain": [
       "2"
      ]
     },
     "execution_count": 5,
     "metadata": {},
     "output_type": "execute_result"
    }
   ],
   "source": [
    "game = Game(0)\n",
    "play_game(Player(1), Player(2),game)\n",
    "game.get_winner()"
   ]
  },
  {
   "cell_type": "code",
   "execution_count": 6,
   "metadata": {},
   "outputs": [
    {
     "data": {
      "text/plain": [
       "[58]"
      ]
     },
     "execution_count": 6,
     "metadata": {},
     "output_type": "execute_result"
    }
   ],
   "source": [
    "game = Game(0)\n",
    "\n",
    "random.sample(game.get_available_moves(), 1)"
   ]
  },
  {
   "cell_type": "code",
   "execution_count": 7,
   "metadata": {},
   "outputs": [
    {
     "name": "stdout",
     "output_type": "stream",
     "text": [
      "   │   │   ┃   │   │   ┃   │   │   \n",
      "───┼───┼───┃───┼───┼───┃───┼───┼───\n",
      "   │   │   ┃   │   │   ┃   │   │   \n",
      "───┼───┼───┃───┼───┼───┃───┼───┼───\n",
      "   │   │   ┃   │   │   ┃   │   │   \n",
      "━━━━━━━━━━━╋━━━━━━━━━━━╋━━━━━━━━━━━━\n",
      "   │   │   ┃   │   │   ┃   │   │   \n",
      "───┼───┼───┃───┼───┼───┃───┼───┼───\n",
      "   │   │   ┃   │   │   ┃   │   │   \n",
      "───┼───┼───┃───┼───┼───┃───┼───┼───\n",
      "   │   │   ┃   │   │   ┃   │   │   \n",
      "━━━━━━━━━━━╋━━━━━━━━━━━╋━━━━━━━━━━━━\n",
      "   │   │   ┃   │   │   ┃   │   │   \n",
      "───┼───┼───┃───┼───┼───┃───┼───┼───\n",
      "   │   │   ┃   │   │   ┃   │   │   \n",
      "───┼───┼───┃───┼───┼───┃───┼───┼───\n",
      "   │   │   ┃   │   │   ┃   │   │   \n"
     ]
    }
   ],
   "source": [
    "print(game)"
   ]
  },
  {
   "cell_type": "code",
   "execution_count": 8,
   "metadata": {},
   "outputs": [
    {
     "data": {
      "text/plain": [
       "<State at 0x10a9a3c90>"
      ]
     },
     "execution_count": 8,
     "metadata": {},
     "output_type": "execute_result"
    }
   ],
   "source": [
    "state = game.make_state()\n",
    "state"
   ]
  },
  {
   "cell_type": "code",
   "execution_count": 9,
   "metadata": {},
   "outputs": [
    {
     "name": "stdout",
     "output_type": "stream",
     "text": [
      "Board:\n",
      " 0 │ 0 │ 0 ┃ 0 │ 0 │ 0 ┃ 0 │ 0 │ 0 \n",
      "───┼───┼───┃───┼───┼───┃───┼───┼──\n",
      " 0 │ 0 │ 0 ┃ 0 │ 0 │ 0 ┃ 0 │ 0 │ 0 \n",
      "───┼───┼───┃───┼───┼───┃───┼───┼──\n",
      " 0 │ 0 │ 0 ┃ 0 │ 0 │ 0 ┃ 0 │ 0 │ 0 \n",
      "━━━━━━━━━━━╋━━━━━━━━━━━╋━━━━━━━━━━━\n",
      " 0 │ 0 │ 0 ┃ 0 │ 0 │ 0 ┃ 0 │ 0 │ 0 \n",
      "───┼───┼───┃───┼───┼───┃───┼───┼──\n",
      " 0 │ 0 │ 0 ┃ 0 │ 0 │ 0 ┃ 0 │ 0 │ 0 \n",
      "───┼───┼───┃───┼───┼───┃───┼───┼──\n",
      " 0 │ 0 │ 0 ┃ 0 │ 0 │ 0 ┃ 0 │ 0 │ 0 \n",
      "━━━━━━━━━━━╋━━━━━━━━━━━╋━━━━━━━━━━━\n",
      " 0 │ 0 │ 0 ┃ 0 │ 0 │ 0 ┃ 0 │ 0 │ 0 \n",
      "───┼───┼───┃───┼───┼───┃───┼───┼──\n",
      " 0 │ 0 │ 0 ┃ 0 │ 0 │ 0 ┃ 0 │ 0 │ 0 \n",
      "───┼───┼───┃───┼───┼───┃───┼───┼──\n",
      " 0 │ 0 │ 0 ┃ 0 │ 0 │ 0 ┃ 0 │ 0 │ 0 \n",
      "\n",
      "Next Player: 1\n",
      "\n",
      "Possible Moves: [12 36 20 13 63 77 72 65 47 26 31 40  1 68 76  3 73  5 66 25 44  4 61 74\n",
      " 38 50 70 18 21  0 37 53 17 33 42 23 46 56  9 49 60 15 19 59 11 58 30 62\n",
      " 78 10 14 16 39 45 52 27 55  2 64 80 34  7 28 67 29 22  8 41 48 24 57 69\n",
      " 71 75 54  6 51 79 32 43 35]\n",
      "\n"
     ]
    }
   ],
   "source": [
    "print(state)"
   ]
  },
  {
   "cell_type": "code",
   "execution_count": 10,
   "metadata": {},
   "outputs": [
    {
     "name": "stdout",
     "output_type": "stream",
     "text": [
      "\n",
      "* 10 cores detected. Using all cores to simulate.*\n"
     ]
    }
   ],
   "source": [
    "player1 = Player(1)\n",
    "player2 = Player(2)\n",
    "play_game_multiple_threads(player1, player2, 10000, 0)"
   ]
  },
  {
   "cell_type": "code",
   "execution_count": 11,
   "metadata": {},
   "outputs": [
    {
     "data": {
      "text/plain": [
       "3655"
      ]
     },
     "execution_count": 11,
     "metadata": {},
     "output_type": "execute_result"
    }
   ],
   "source": [
    "player2.get_wins()"
   ]
  },
  {
   "cell_type": "code",
   "execution_count": 12,
   "metadata": {},
   "outputs": [
    {
     "data": {
      "text/plain": [
       "4081"
      ]
     },
     "execution_count": 12,
     "metadata": {},
     "output_type": "execute_result"
    }
   ],
   "source": [
    "player1.get_wins()"
   ]
  },
  {
   "cell_type": "code",
   "execution_count": 13,
   "metadata": {},
   "outputs": [],
   "source": [
    "class CustomPlayer(Player):\n",
    "    id\n",
    "\n",
    "    def __init__(self,id):\n",
    "        self.id = id\n",
    "    def make_move(self, game: Game):\n",
    "        print(\"mjoef\")\n",
    "        game.make_move(random.sample(game.get_available_moves(), 1)[0], self.id)\n",
    "    def meow(self):\n",
    "        print(\"ROARRR I AM A BIG CAT!!!\")"
   ]
  },
  {
   "cell_type": "code",
   "execution_count": 14,
   "metadata": {},
   "outputs": [],
   "source": [
    "# player1 = CustomPlayer(1)\n",
    "# player2 = Player(2)\n",
    "# for i in range(10000):\n",
    "#     game = Game(0)\n",
    "#     play_game(player1,player2,game)\n",
    "# (player1.get_wins(), player2.get_wins())"
   ]
  },
  {
   "cell_type": "code",
   "execution_count": 15,
   "metadata": {},
   "outputs": [],
   "source": [
    "player1 = CustomPlayer(1)\n",
    "# player2 = Player(2)\n",
    "# play_multiple_games(player1,player2,10000)\n",
    "# (player1.get_wins(), player2.get_wins())"
   ]
  },
  {
   "cell_type": "code",
   "execution_count": 16,
   "metadata": {},
   "outputs": [
    {
     "name": "stdout",
     "output_type": "stream",
     "text": [
      "mjoef\n"
     ]
    }
   ],
   "source": [
    "game = Game(0)\n",
    "player1.make_move(game)"
   ]
  },
  {
   "cell_type": "code",
   "execution_count": 17,
   "metadata": {},
   "outputs": [
    {
     "data": {
      "text/plain": [
       "'Built-in mutable sequence.\\n\\nIf no argument is given, the constructor creates a new empty list.\\nThe argument must be an iterable if specified.'"
      ]
     },
     "execution_count": 17,
     "metadata": {},
     "output_type": "execute_result"
    }
   ],
   "source": [
    "game.get_available_moves().__doc__"
   ]
  },
  {
   "cell_type": "code",
   "execution_count": 18,
   "metadata": {},
   "outputs": [],
   "source": [
    "state = game.make_state()"
   ]
  },
  {
   "cell_type": "code",
   "execution_count": 19,
   "metadata": {},
   "outputs": [
    {
     "name": "stdout",
     "output_type": "stream",
     "text": [
      "Board:\n",
      " 0 │ 0 │ 0 ┃ 0 │ 0 │ 0 ┃ 0 │ 0 │ 0 \n",
      "───┼───┼───┃───┼───┼───┃───┼───┼──\n",
      " 0 │ 0 │ 0 ┃ 0 │ 0 │ 0 ┃ 0 │ 0 │ 0 \n",
      "───┼───┼───┃───┼───┼───┃───┼───┼──\n",
      " 0 │ 0 │ 0 ┃ 0 │ 0 │ 0 ┃ 0 │ 0 │ 0 \n",
      "━━━━━━━━━━━╋━━━━━━━━━━━╋━━━━━━━━━━━\n",
      " 0 │ 0 │ 0 ┃ 0 │ 0 │ 1 ┃ 0 │ 0 │ 0 \n",
      "───┼───┼───┃───┼───┼───┃───┼───┼──\n",
      " 0 │ 0 │ 0 ┃ 0 │ 0 │ 0 ┃ 0 │ 0 │ 0 \n",
      "───┼───┼───┃───┼───┼───┃───┼───┼──\n",
      " 0 │ 0 │ 0 ┃ 0 │ 0 │ 0 ┃ 0 │ 0 │ 0 \n",
      "━━━━━━━━━━━╋━━━━━━━━━━━╋━━━━━━━━━━━\n",
      " 0 │ 0 │ 0 ┃ 0 │ 0 │ 0 ┃ 0 │ 0 │ 0 \n",
      "───┼───┼───┃───┼───┼───┃───┼───┼──\n",
      " 0 │ 0 │ 0 ┃ 0 │ 0 │ 0 ┃ 0 │ 0 │ 0 \n",
      "───┼───┼───┃───┼───┼───┃───┼───┼──\n",
      " 0 │ 0 │ 0 ┃ 0 │ 0 │ 0 ┃ 0 │ 0 │ 0 \n",
      "\n",
      "Next Player: 2\n",
      "\n",
      "Possible Moves: [18 19 20 21 22 23 24 25 26]\n",
      "\n"
     ]
    }
   ],
   "source": [
    "print(state)"
   ]
  }
 ],
 "metadata": {
  "kernelspec": {
   "display_name": ".env",
   "language": "python",
   "name": "python3"
  },
  "language_info": {
   "codemirror_mode": {
    "name": "ipython",
    "version": 3
   },
   "file_extension": ".py",
   "mimetype": "text/x-python",
   "name": "python",
   "nbconvert_exporter": "python",
   "pygments_lexer": "ipython3",
   "version": "3.10.11"
  }
 },
 "nbformat": 4,
 "nbformat_minor": 2
}
